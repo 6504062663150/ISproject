{
  "nbformat": 4,
  "nbformat_minor": 0,
  "metadata": {
    "colab": {
      "provenance": []
    },
    "kernelspec": {
      "name": "python3",
      "display_name": "Python 3"
    },
    "language_info": {
      "name": "python"
    }
  },
  "cells": [
    {
      "cell_type": "code",
      "source": [
        "import pandas as pd\n",
        "from sklearn.model_selection import train_test_split\n",
        "from google.colab import files"
      ],
      "metadata": {
        "id": "IdEDmcmPER8T"
      },
      "execution_count": 11,
      "outputs": []
    },
    {
      "cell_type": "code",
      "source": [
        "uploaded = files.upload()\n",
        "df = pd.read_csv(\"/content/fraud-detection-dataset.csv\")"
      ],
      "metadata": {
        "colab": {
          "base_uri": "https://localhost:8080/",
          "height": 73
        },
        "id": "J9pVKX_3JmEh",
        "outputId": "7a60ad98-0738-40fc-a37f-3997928252a8"
      },
      "execution_count": 12,
      "outputs": [
        {
          "output_type": "display_data",
          "data": {
            "text/plain": [
              "<IPython.core.display.HTML object>"
            ],
            "text/html": [
              "\n",
              "     <input type=\"file\" id=\"files-dc0461c9-903f-45d9-a651-2f82e0bd8032\" name=\"files[]\" multiple disabled\n",
              "        style=\"border:none\" />\n",
              "     <output id=\"result-dc0461c9-903f-45d9-a651-2f82e0bd8032\">\n",
              "      Upload widget is only available when the cell has been executed in the\n",
              "      current browser session. Please rerun this cell to enable.\n",
              "      </output>\n",
              "      <script>// Copyright 2017 Google LLC\n",
              "//\n",
              "// Licensed under the Apache License, Version 2.0 (the \"License\");\n",
              "// you may not use this file except in compliance with the License.\n",
              "// You may obtain a copy of the License at\n",
              "//\n",
              "//      http://www.apache.org/licenses/LICENSE-2.0\n",
              "//\n",
              "// Unless required by applicable law or agreed to in writing, software\n",
              "// distributed under the License is distributed on an \"AS IS\" BASIS,\n",
              "// WITHOUT WARRANTIES OR CONDITIONS OF ANY KIND, either express or implied.\n",
              "// See the License for the specific language governing permissions and\n",
              "// limitations under the License.\n",
              "\n",
              "/**\n",
              " * @fileoverview Helpers for google.colab Python module.\n",
              " */\n",
              "(function(scope) {\n",
              "function span(text, styleAttributes = {}) {\n",
              "  const element = document.createElement('span');\n",
              "  element.textContent = text;\n",
              "  for (const key of Object.keys(styleAttributes)) {\n",
              "    element.style[key] = styleAttributes[key];\n",
              "  }\n",
              "  return element;\n",
              "}\n",
              "\n",
              "// Max number of bytes which will be uploaded at a time.\n",
              "const MAX_PAYLOAD_SIZE = 100 * 1024;\n",
              "\n",
              "function _uploadFiles(inputId, outputId) {\n",
              "  const steps = uploadFilesStep(inputId, outputId);\n",
              "  const outputElement = document.getElementById(outputId);\n",
              "  // Cache steps on the outputElement to make it available for the next call\n",
              "  // to uploadFilesContinue from Python.\n",
              "  outputElement.steps = steps;\n",
              "\n",
              "  return _uploadFilesContinue(outputId);\n",
              "}\n",
              "\n",
              "// This is roughly an async generator (not supported in the browser yet),\n",
              "// where there are multiple asynchronous steps and the Python side is going\n",
              "// to poll for completion of each step.\n",
              "// This uses a Promise to block the python side on completion of each step,\n",
              "// then passes the result of the previous step as the input to the next step.\n",
              "function _uploadFilesContinue(outputId) {\n",
              "  const outputElement = document.getElementById(outputId);\n",
              "  const steps = outputElement.steps;\n",
              "\n",
              "  const next = steps.next(outputElement.lastPromiseValue);\n",
              "  return Promise.resolve(next.value.promise).then((value) => {\n",
              "    // Cache the last promise value to make it available to the next\n",
              "    // step of the generator.\n",
              "    outputElement.lastPromiseValue = value;\n",
              "    return next.value.response;\n",
              "  });\n",
              "}\n",
              "\n",
              "/**\n",
              " * Generator function which is called between each async step of the upload\n",
              " * process.\n",
              " * @param {string} inputId Element ID of the input file picker element.\n",
              " * @param {string} outputId Element ID of the output display.\n",
              " * @return {!Iterable<!Object>} Iterable of next steps.\n",
              " */\n",
              "function* uploadFilesStep(inputId, outputId) {\n",
              "  const inputElement = document.getElementById(inputId);\n",
              "  inputElement.disabled = false;\n",
              "\n",
              "  const outputElement = document.getElementById(outputId);\n",
              "  outputElement.innerHTML = '';\n",
              "\n",
              "  const pickedPromise = new Promise((resolve) => {\n",
              "    inputElement.addEventListener('change', (e) => {\n",
              "      resolve(e.target.files);\n",
              "    });\n",
              "  });\n",
              "\n",
              "  const cancel = document.createElement('button');\n",
              "  inputElement.parentElement.appendChild(cancel);\n",
              "  cancel.textContent = 'Cancel upload';\n",
              "  const cancelPromise = new Promise((resolve) => {\n",
              "    cancel.onclick = () => {\n",
              "      resolve(null);\n",
              "    };\n",
              "  });\n",
              "\n",
              "  // Wait for the user to pick the files.\n",
              "  const files = yield {\n",
              "    promise: Promise.race([pickedPromise, cancelPromise]),\n",
              "    response: {\n",
              "      action: 'starting',\n",
              "    }\n",
              "  };\n",
              "\n",
              "  cancel.remove();\n",
              "\n",
              "  // Disable the input element since further picks are not allowed.\n",
              "  inputElement.disabled = true;\n",
              "\n",
              "  if (!files) {\n",
              "    return {\n",
              "      response: {\n",
              "        action: 'complete',\n",
              "      }\n",
              "    };\n",
              "  }\n",
              "\n",
              "  for (const file of files) {\n",
              "    const li = document.createElement('li');\n",
              "    li.append(span(file.name, {fontWeight: 'bold'}));\n",
              "    li.append(span(\n",
              "        `(${file.type || 'n/a'}) - ${file.size} bytes, ` +\n",
              "        `last modified: ${\n",
              "            file.lastModifiedDate ? file.lastModifiedDate.toLocaleDateString() :\n",
              "                                    'n/a'} - `));\n",
              "    const percent = span('0% done');\n",
              "    li.appendChild(percent);\n",
              "\n",
              "    outputElement.appendChild(li);\n",
              "\n",
              "    const fileDataPromise = new Promise((resolve) => {\n",
              "      const reader = new FileReader();\n",
              "      reader.onload = (e) => {\n",
              "        resolve(e.target.result);\n",
              "      };\n",
              "      reader.readAsArrayBuffer(file);\n",
              "    });\n",
              "    // Wait for the data to be ready.\n",
              "    let fileData = yield {\n",
              "      promise: fileDataPromise,\n",
              "      response: {\n",
              "        action: 'continue',\n",
              "      }\n",
              "    };\n",
              "\n",
              "    // Use a chunked sending to avoid message size limits. See b/62115660.\n",
              "    let position = 0;\n",
              "    do {\n",
              "      const length = Math.min(fileData.byteLength - position, MAX_PAYLOAD_SIZE);\n",
              "      const chunk = new Uint8Array(fileData, position, length);\n",
              "      position += length;\n",
              "\n",
              "      const base64 = btoa(String.fromCharCode.apply(null, chunk));\n",
              "      yield {\n",
              "        response: {\n",
              "          action: 'append',\n",
              "          file: file.name,\n",
              "          data: base64,\n",
              "        },\n",
              "      };\n",
              "\n",
              "      let percentDone = fileData.byteLength === 0 ?\n",
              "          100 :\n",
              "          Math.round((position / fileData.byteLength) * 100);\n",
              "      percent.textContent = `${percentDone}% done`;\n",
              "\n",
              "    } while (position < fileData.byteLength);\n",
              "  }\n",
              "\n",
              "  // All done.\n",
              "  yield {\n",
              "    response: {\n",
              "      action: 'complete',\n",
              "    }\n",
              "  };\n",
              "}\n",
              "\n",
              "scope.google = scope.google || {};\n",
              "scope.google.colab = scope.google.colab || {};\n",
              "scope.google.colab._files = {\n",
              "  _uploadFiles,\n",
              "  _uploadFilesContinue,\n",
              "};\n",
              "})(self);\n",
              "</script> "
            ]
          },
          "metadata": {}
        },
        {
          "output_type": "stream",
          "name": "stdout",
          "text": [
            "Saving fraud-detection-dataset.csv to fraud-detection-dataset (6).csv\n"
          ]
        }
      ]
    },
    {
      "cell_type": "code",
      "execution_count": 13,
      "metadata": {
        "colab": {
          "base_uri": "https://localhost:8080/"
        },
        "id": "BxLdud2LDKcZ",
        "outputId": "444b7770-e009-4756-ebb5-68f79e9da593"
      },
      "outputs": [
        {
          "output_type": "stream",
          "name": "stdout",
          "text": [
            "  Transaction_ID  User_ID  Transaction_Amount Transaction_Type  \\\n",
            "0             T1     4174             1292.76   ATM Withdrawal   \n",
            "1             T2     4507             1554.58   ATM Withdrawal   \n",
            "2             T3     1860             2395.02   ATM Withdrawal   \n",
            "3             T4     2294              100.10     Bill Payment   \n",
            "4             T5     2130             1490.50      POS Payment   \n",
            "\n",
            "   Time_of_Transaction Device_Used       Location  \\\n",
            "0                 16.0      Tablet  San Francisco   \n",
            "1                 13.0      Mobile       New York   \n",
            "2                  NaN      Mobile            NaN   \n",
            "3                 15.0     Desktop        Chicago   \n",
            "4                 19.0      Mobile  San Francisco   \n",
            "\n",
            "   Previous_Fraudulent_Transactions  Account_Age  \\\n",
            "0                                 0          119   \n",
            "1                                 4           79   \n",
            "2                                 3          115   \n",
            "3                                 4            3   \n",
            "4                                 2           57   \n",
            "\n",
            "   Number_of_Transactions_Last_24H Payment_Method  Fraudulent  \n",
            "0                               13     Debit Card           0  \n",
            "1                                3    Credit Card           0  \n",
            "2                                9            NaN           0  \n",
            "3                                4            UPI           0  \n",
            "4                                7    Credit Card           0  \n",
            "<class 'pandas.core.frame.DataFrame'>\n",
            "RangeIndex: 51000 entries, 0 to 50999\n",
            "Data columns (total 12 columns):\n",
            " #   Column                            Non-Null Count  Dtype  \n",
            "---  ------                            --------------  -----  \n",
            " 0   Transaction_ID                    51000 non-null  object \n",
            " 1   User_ID                           51000 non-null  int64  \n",
            " 2   Transaction_Amount                48480 non-null  float64\n",
            " 3   Transaction_Type                  51000 non-null  object \n",
            " 4   Time_of_Transaction               48448 non-null  float64\n",
            " 5   Device_Used                       48527 non-null  object \n",
            " 6   Location                          48453 non-null  object \n",
            " 7   Previous_Fraudulent_Transactions  51000 non-null  int64  \n",
            " 8   Account_Age                       51000 non-null  int64  \n",
            " 9   Number_of_Transactions_Last_24H   51000 non-null  int64  \n",
            " 10  Payment_Method                    48531 non-null  object \n",
            " 11  Fraudulent                        51000 non-null  int64  \n",
            "dtypes: float64(2), int64(5), object(5)\n",
            "memory usage: 4.7+ MB\n",
            "None\n",
            "            User_ID  Transaction_Amount  Time_of_Transaction  \\\n",
            "count  51000.000000        48480.000000         48448.000000   \n",
            "mean    3005.110176         2996.249784            11.488400   \n",
            "std     1153.121107         5043.932555             6.922954   \n",
            "min     1000.000000            5.030000             0.000000   \n",
            "25%     2007.000000         1270.552500             5.000000   \n",
            "50%     2996.000000         2524.100000            12.000000   \n",
            "75%     4006.000000         3787.240000            17.000000   \n",
            "max     4999.000000        49997.800000            23.000000   \n",
            "\n",
            "       Previous_Fraudulent_Transactions   Account_Age  \\\n",
            "count                      51000.000000  51000.000000   \n",
            "mean                           1.995725     60.033902   \n",
            "std                            1.415150     34.384131   \n",
            "min                            0.000000      1.000000   \n",
            "25%                            1.000000     30.000000   \n",
            "50%                            2.000000     60.000000   \n",
            "75%                            3.000000     90.000000   \n",
            "max                            4.000000    119.000000   \n",
            "\n",
            "       Number_of_Transactions_Last_24H    Fraudulent  \n",
            "count                     51000.000000  51000.000000  \n",
            "mean                          7.495588      0.049216  \n",
            "std                           4.020080      0.216320  \n",
            "min                           1.000000      0.000000  \n",
            "25%                           4.000000      0.000000  \n",
            "50%                           7.000000      0.000000  \n",
            "75%                          11.000000      0.000000  \n",
            "max                          14.000000      1.000000  \n"
          ]
        }
      ],
      "source": [
        "print(df.head())\n",
        "print(df.info())\n",
        "print(df.describe())"
      ]
    },
    {
      "cell_type": "code",
      "source": [
        "# ลดขนาดข้อมูล (ใช้เฉพาะ 50% ของข้อมูล)\n",
        "df = df.sample(frac=0.5, random_state=42)\n",
        "\n",
        "# จัดการ missing values\n",
        "df = df.dropna()\n",
        "\n",
        "# แปลง categorical data เป็นตัวเลข\n",
        "df = pd.get_dummies(df, drop_first=True)\n",
        "\n",
        "# แบ่งข้อมูลเป็นชุดฝึกและชุดทดสอบ\n",
        "X = df.drop('Fraudulent', axis=1)\n",
        "y = df['Fraudulent']\n",
        "X_train, X_test, y_train, y_test = train_test_split(X, y, test_size=0.2, random_state=42)"
      ],
      "metadata": {
        "id": "2hpWr9HDDSNe"
      },
      "execution_count": 14,
      "outputs": []
    },
    {
      "cell_type": "code",
      "source": [
        "print(\"Training set size:\", X_train.shape)\n",
        "print(\"Testing set size:\", X_test.shape)"
      ],
      "metadata": {
        "colab": {
          "base_uri": "https://localhost:8080/"
        },
        "id": "WFlFtOOJJurz",
        "outputId": "76484a4b-43dc-4049-a924-30a59d8b2f45"
      },
      "execution_count": 15,
      "outputs": [
        {
          "output_type": "stream",
          "name": "stdout",
          "text": [
            "Training set size: (15894, 19547)\n",
            "Testing set size: (3974, 19547)\n"
          ]
        }
      ]
    },
    {
      "cell_type": "code",
      "source": [
        "from sklearn.model_selection import train_test_split\n",
        "\n",
        "# Define features and target\n",
        "X = df.drop('Fraudulent', axis=1)  # Features (ทุกคอลัมน์ยกเว้น 'Fraudulent')\n",
        "y = df['Fraudulent']  # Target (คอลัมน์ 'Fraudulent')\n",
        "\n",
        "# Split data\n",
        "X_train, X_test, y_train, y_test = train_test_split(X, y, test_size=0.2, random_state=42)"
      ],
      "metadata": {
        "id": "XsMLrUwtDTI0"
      },
      "execution_count": 16,
      "outputs": []
    },
    {
      "cell_type": "code",
      "source": [
        "from xgboost import XGBClassifier\n",
        "\n",
        "# Train model\n",
        "xgb = XGBClassifier()\n",
        "xgb.fit(X_train, y_train)\n",
        "\n",
        "# Predict\n",
        "y_pred = xgb.predict(X_test)\n",
        "\n",
        "# Evaluate\n",
        "print(\"XGBoost Accuracy:\", accuracy_score(y_test, y_pred))\n",
        "print(classification_report(y_test, y_pred))"
      ],
      "metadata": {
        "colab": {
          "base_uri": "https://localhost:8080/"
        },
        "id": "7PgR_ZY7DWbX",
        "outputId": "9a4ef8e1-8be4-4839-a3c0-aa81296591b2"
      },
      "execution_count": 19,
      "outputs": [
        {
          "output_type": "stream",
          "name": "stdout",
          "text": [
            "XGBoost Accuracy: 0.9569703069954706\n",
            "              precision    recall  f1-score   support\n",
            "\n",
            "           0       0.96      1.00      0.98      3805\n",
            "           1       0.33      0.01      0.02       169\n",
            "\n",
            "    accuracy                           0.96      3974\n",
            "   macro avg       0.65      0.51      0.50      3974\n",
            "weighted avg       0.93      0.96      0.94      3974\n",
            "\n"
          ]
        }
      ]
    },
    {
      "cell_type": "code",
      "source": [
        "import joblib\n",
        "\n",
        "# Save the best model (XGBoost)\n",
        "joblib.dump(xgb, 'fraud_detection_model.pkl')\n",
        "\n",
        "print(\"Model saved as 'fraud_detection_model.pkl'\")"
      ],
      "metadata": {
        "colab": {
          "base_uri": "https://localhost:8080/"
        },
        "id": "EovWFu0lDZXo",
        "outputId": "b68f653b-8f09-4c96-f41b-c59f58035876"
      },
      "execution_count": 20,
      "outputs": [
        {
          "output_type": "stream",
          "name": "stdout",
          "text": [
            "Model saved as 'fraud_detection_model.pkl'\n"
          ]
        }
      ]
    }
  ]
}